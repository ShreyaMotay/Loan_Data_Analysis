{
 "cells": [
  {
   "cell_type": "code",
   "execution_count": 58,
   "id": "3ba70ae6-99d3-454c-8eb6-b0ea55b750bb",
   "metadata": {},
   "outputs": [],
   "source": [
    "import pandas as pd\n",
    "from sklearn.neighbors import NearestNeighbors\n",
    "from sklearn.preprocessing import StandardScaler\n",
    "from sklearn.neighbors import KNeighborsClassifier\n",
    "from sklearn.model_selection import train_test_split\n",
    "import numpy as np\n",
    "from sklearn import metrics\n",
    "from sklearn.preprocessing import LabelEncoder\n",
    "from sklearn.metrics import accuracy_score\n",
    "\n",
    "from sklearn.naive_bayes import GaussianNB\n",
    "import pandas as pd\n",
    "import numpy as np\n",
    "import matplotlib.pyplot as plt\n",
    "import seaborn as sns\n",
    "from sklearn.model_selection import train_test_split\n",
    "from sklearn.linear_model import LogisticRegression\n",
    "from sklearn.tree import DecisionTreeClassifier\n",
    "\n",
    "from sklearn.ensemble import RandomForestClassifier\n",
    "from sklearn.metrics import (accuracy_score, confusion_matrix, \n",
    "                            classification_report, roc_auc_score, \n",
    "                            roc_curve, precision_recall_curve)\n",
    "from sklearn.preprocessing import LabelEncoder, StandardScaler\n",
    "from sklearn.impute import SimpleImputer\n",
    "import matplotlib.pyplot as plt\n",
    "from sklearn.tree import plot_tree\n",
    "import seaborn as sns\n",
    "import pandas as pd\n",
    "import numpy as np\n",
    "import matplotlib.pyplot as plt\n",
    "import seaborn as sns\n",
    "from sklearn.ensemble import RandomForestClassifier\n",
    "from sklearn.model_selection import train_test_split\n",
    "from sklearn.metrics import (accuracy_score, precision_score, recall_score, \n",
    "                            f1_score, roc_auc_score, confusion_matrix, \n",
    "                            classification_report, roc_curve, precision_recall_curve)\n",
    "from sklearn.preprocessing import LabelEncoder\n",
    "from sklearn.tree import plot_tree\n",
    "import plotly.express as px\n",
    "import plotly.graph_objects as go\n",
    "from plotly.subplots import make_subplots"
   ]
  },
  {
   "cell_type": "code",
   "execution_count": 10,
   "id": "39ad4010-b6eb-4655-a24c-e96166be6d2a",
   "metadata": {},
   "outputs": [],
   "source": [
    "data= pd.read_csv(\"C:/Users/shrey/OneDrive/Documents/SPRING 2025/pred/Loan_Data.csv\")"
   ]
  },
  {
   "cell_type": "markdown",
   "id": "e114a7b8-d754-4419-96c7-d9cd2fd2ef36",
   "metadata": {},
   "source": [
    "## Converting string values to numeric"
   ]
  },
  {
   "cell_type": "code",
   "execution_count": 15,
   "id": "30ed845a-a6dd-4e88-8133-2b4caae54870",
   "metadata": {},
   "outputs": [],
   "source": [
    "categorical_cols = ['gender', 'education', 'home_ownership', 'loan_intent', 'loan_default_history']\n",
    "encoder = LabelEncoder()\n",
    "\n",
    "# Encoding each categorical column\n",
    "for col in categorical_cols:\n",
    "    data[col] = encoder.fit_transform(data[col])"
   ]
  },
  {
   "cell_type": "markdown",
   "id": "5474f388-2d7f-4417-be77-bc8620d486b8",
   "metadata": {},
   "source": [
    "## defining features and target"
   ]
  },
  {
   "cell_type": "code",
   "execution_count": 20,
   "id": "4a94c7f3-fe9d-4d94-9c16-06c82aa46fa7",
   "metadata": {},
   "outputs": [],
   "source": [
    "features=data[[\"age\", \"gender\", \"education\",\"income\", \"employment_experience\", \"home_ownership\", \"loan amount\", \"loan_intent\", \"loan_int_rate\", \"loan_percent_income\", \"credit_history_length\", \"credit_score\", \"loan_default_history\"]]\n",
    "target=data.loan_status"
   ]
  },
  {
   "cell_type": "code",
   "execution_count": 22,
   "id": "7e69e902-f209-46d4-a9f1-7cbf5ac84190",
   "metadata": {},
   "outputs": [],
   "source": [
    "#Splitting the data into training and testing \n",
    "X_train, X_test, y_train, y_test = train_test_split(features, target, test_size=0.3)"
   ]
  },
  {
   "cell_type": "markdown",
   "id": "24ddbbc7-3e9e-4481-adb2-ea381f0e120b",
   "metadata": {},
   "source": [
    "## Training the model"
   ]
  },
  {
   "cell_type": "code",
   "execution_count": 25,
   "id": "1a6efc5c-6935-473c-9407-e6678641c87f",
   "metadata": {},
   "outputs": [],
   "source": [
    "#As the features are continuous\n",
    "classifier=GaussianNB()"
   ]
  },
  {
   "cell_type": "code",
   "execution_count": 27,
   "id": "1e40793c-6cfd-4575-a2a7-858f0be73c56",
   "metadata": {},
   "outputs": [],
   "source": [
    "model=classifier.fit(features, target)"
   ]
  },
  {
   "cell_type": "markdown",
   "id": "0fe19c46-718b-4b48-a1fd-573b33894a6d",
   "metadata": {},
   "source": [
    "## prediction"
   ]
  },
  {
   "cell_type": "code",
   "execution_count": 30,
   "id": "44f5db5e-3852-4853-a3b5-53be254e1eff",
   "metadata": {},
   "outputs": [],
   "source": [
    "predictions1=model.predict(features)"
   ]
  },
  {
   "cell_type": "code",
   "execution_count": 32,
   "id": "466750c6-4b3a-48cc-94f4-77bbabb04793",
   "metadata": {},
   "outputs": [],
   "source": [
    "# classifier=GaussianNB(priors=[0.5,0.5])\n",
    "classifier=GaussianNB(priors=[1-target.mean(),target.mean()])\n",
    "model=classifier.fit(features, target)"
   ]
  },
  {
   "cell_type": "code",
   "execution_count": 34,
   "id": "a31d9e31-6e29-4a92-82b3-25664c3f1dc5",
   "metadata": {},
   "outputs": [],
   "source": [
    "predictions2=model.predict(features)"
   ]
  },
  {
   "cell_type": "code",
   "execution_count": 36,
   "id": "143e2693-45ee-41e5-aebe-02866731c38b",
   "metadata": {},
   "outputs": [],
   "source": [
    "for x in range(len(predictions2)):\n",
    "    if predictions1[x]!=predictions2[x]:\n",
    "        print(\"Different\")"
   ]
  },
  {
   "cell_type": "markdown",
   "id": "2b957dfb-3010-4505-a476-f8357af0bf1a",
   "metadata": {},
   "source": [
    "## Fitting and prediction"
   ]
  },
  {
   "cell_type": "code",
   "execution_count": 43,
   "id": "b5e8501c-b50c-430c-814c-01726ddda661",
   "metadata": {},
   "outputs": [],
   "source": [
    "classifier=GaussianNB(priors=[0.5,0.5])\n",
    "model=classifier.fit(features, target)"
   ]
  },
  {
   "cell_type": "code",
   "execution_count": 45,
   "id": "d18d4baf-9f6b-4a06-a2f2-45d4ce329e64",
   "metadata": {},
   "outputs": [],
   "source": [
    "predictions3=model.predict(features)"
   ]
  },
  {
   "cell_type": "markdown",
   "id": "41ca17c2-936e-42cc-9bcb-fd40b4afdf7e",
   "metadata": {},
   "source": [
    "## Predicting loan status on the basis of the data training"
   ]
  },
  {
   "cell_type": "code",
   "execution_count": 84,
   "id": "d451c0d9-2b59-4f48-9cee-63df3dcd1f64",
   "metadata": {},
   "outputs": [
    {
     "name": "stdout",
     "output_type": "stream",
     "text": [
      "Predicted Loan Status for the new customer: Approved\n"
     ]
    }
   ],
   "source": [
    "new_customer = [[30, 1, 2, 50000, 5, 1, 15000, 2, 13.5, 0.30, 6, 680, 0]]\n",
    "new_customer_df = pd.DataFrame(new_customer, columns=features.columns)\n",
    "loan_prediction = model.predict(new_customer_df)\n",
    "print(\"Predicted Loan Status for the new customer:\", \"Approved\" if loan_prediction[0] == 1 else \"Not Approved\")"
   ]
  },
  {
   "cell_type": "markdown",
   "id": "57a48b0a-415f-4fe3-a4a2-28d4633bafc8",
   "metadata": {},
   "source": [
    "## Accuracy of the model"
   ]
  },
  {
   "cell_type": "code",
   "execution_count": 87,
   "id": "2bf9c3a8-0e6a-43ff-8eb3-3739c0381add",
   "metadata": {},
   "outputs": [
    {
     "name": "stdout",
     "output_type": "stream",
     "text": [
      "Gaussian Naive Bayes Accuracy: 81.84%\n"
     ]
    }
   ],
   "source": [
    "accuracy_NB = accuracy_score(target, predictions1)\n",
    "print(f\"Gaussian Naive Bayes Accuracy: {accuracy_NB:.2%}\")"
   ]
  },
  {
   "cell_type": "code",
   "execution_count": 89,
   "id": "381f069e-6a94-411a-98ff-b032b6010e25",
   "metadata": {},
   "outputs": [],
   "source": [
    "# Load YOUR dataset (replace with your path)\n",
    "df = pd.read_csv('C:/Users/shrey/OneDrive/Documents/SPRING 2025/pred/Loan_Data.csv')"
   ]
  },
  {
   "cell_type": "code",
   "execution_count": 91,
   "id": "5bbbba06-6547-4798-861b-e42d90ec93b9",
   "metadata": {},
   "outputs": [
    {
     "name": "stdout",
     "output_type": "stream",
     "text": [
      "Missing Values Before Cleaning:\n",
      "age                      0\n",
      "gender                   0\n",
      "education                0\n",
      "income                   0\n",
      "employment_experience    0\n",
      "home_ownership           0\n",
      "loan amount              0\n",
      "loan_intent              0\n",
      "loan_int_rate            0\n",
      "loan_percent_income      0\n",
      "credit_history_length    0\n",
      "credit_score             0\n",
      "loan_default_history     0\n",
      "dtype: int64\n"
     ]
    }
   ],
   "source": [
    "# 1. Define Features (X) and Target (y)\n",
    "# 'loan_status' is the target\n",
    "X = df.drop('loan_status', axis=1)  # Features\n",
    "y = df['loan_status']               # Target\n",
    "\n",
    "# 2. Check for missing values\n",
    "print(\"Missing Values Before Cleaning:\")\n",
    "print(X.isnull().sum())"
   ]
  },
  {
   "cell_type": "code",
   "execution_count": 66,
   "id": "f2d2c564-3e3e-4616-b80d-048fabf5e167",
   "metadata": {},
   "outputs": [
    {
     "name": "stdout",
     "output_type": "stream",
     "text": [
      "Index(['gender', 'education', 'home_ownership', 'loan_intent',\n",
      "       'loan_default_history'],\n",
      "      dtype='object')\n"
     ]
    }
   ],
   "source": [
    "categorical_cols = X.select_dtypes(exclude=np.number).columns\n",
    "print(categorical_cols)"
   ]
  },
  {
   "cell_type": "code",
   "execution_count": 68,
   "id": "a0bfcbb7-46aa-41f3-a0c4-c0be29e624e3",
   "metadata": {},
   "outputs": [
    {
     "name": "stdout",
     "output_type": "stream",
     "text": [
      "   age  gender  education  income  employment_experience  home_ownership  \\\n",
      "0   22       0          4   71948                      0               3   \n",
      "1   21       0          3   12282                      0               2   \n",
      "2   25       0          3   12438                      3               0   \n",
      "3   23       0          1   79753                      0               3   \n",
      "4   24       1          4   66135                      1               3   \n",
      "\n",
      "   loan amount  loan_intent  loan_int_rate  loan_percent_income  \\\n",
      "0        35000            4          16.02                 0.49   \n",
      "1         1000            1          11.14                 0.08   \n",
      "2         5500            3          12.87                 0.44   \n",
      "3        35000            3          15.23                 0.44   \n",
      "4        35000            3          14.27                 0.53   \n",
      "\n",
      "   credit_history_length  credit_score  loan_default_history  \n",
      "0                      3           561                     0  \n",
      "1                      2           504                     1  \n",
      "2                      3           635                     0  \n",
      "3                      2           675                     0  \n",
      "4                      4           586                     0  \n"
     ]
    }
   ],
   "source": [
    "# Categorical encoding\n",
    "for col in categorical_cols:\n",
    "    le = LabelEncoder()\n",
    "    X[col] = le.fit_transform(X[col].astype(str))\n",
    "\n",
    "print(X.head())\n"
   ]
  },
  {
   "cell_type": "code",
   "execution_count": 70,
   "id": "3a0959eb-b4e2-4eb8-9d8e-1de96116355c",
   "metadata": {},
   "outputs": [],
   "source": [
    "# 3. Train-Test Split\n",
    "X_train, X_test, y_train, y_test = train_test_split(X, y, test_size=0.3, random_state=42)"
   ]
  },
  {
   "cell_type": "code",
   "execution_count": 72,
   "id": "74029987-c765-41e6-b9bd-952fd372f7c4",
   "metadata": {},
   "outputs": [],
   "source": [
    "# 4. Train Model\n",
    "model = RandomForestClassifier(\n",
    "        n_estimators=150,\n",
    "        max_depth=6,\n",
    "        class_weight='balanced',\n",
    "        random_state=42\n",
    "    )\n"
   ]
  },
  {
   "cell_type": "code",
   "execution_count": 74,
   "id": "3613407b-46a5-48cb-9d4b-7b59120feb48",
   "metadata": {},
   "outputs": [],
   "source": [
    "model.fit(X_train, y_train)\n",
    "y_pred = model.predict(X_test)\n",
    "y_proba = model.predict_proba(X_test)[:, 1] if hasattr(model, \"predict_proba\") else [0] * len(y_test)\n",
    "# Store results\n",
    "result = {\n",
    "    \"Accuracy\": accuracy_score(y_test, y_pred),\n",
    "    \"Confusion Matrix\": confusion_matrix(y_test, y_pred),\n",
    "    \"Classification Report\": classification_report(y_test, y_pred),\n",
    "    \"ROC AUC\": roc_auc_score(y_test, y_proba) if hasattr(model, \"predict_proba\") else None\n",
    "}"
   ]
  },
  {
   "cell_type": "code",
   "execution_count": 76,
   "id": "a213e095-a3c5-4f52-9f16-4d296fc0b8b8",
   "metadata": {},
   "outputs": [
    {
     "name": "stdout",
     "output_type": "stream",
     "text": [
      "Accuracy: 0.87\n"
     ]
    }
   ],
   "source": [
    "# 5. Print Results\n",
    "print(f\"Accuracy: {result['Accuracy']:.2f}\")\n"
   ]
  },
  {
   "cell_type": "code",
   "execution_count": 78,
   "id": "50fd76c0-5ae9-4268-8483-d03338936f89",
   "metadata": {},
   "outputs": [
    {
     "data": {
      "image/png": "[encoded data removed]",
      "text/plain": [
       "<Figure size 500x300 with 1 Axes>"
      ]
     },
     "metadata": {},
     "output_type": "display_data"
    }
   ],
   "source": [
    "# Feature Importance (Random Forest)\n",
    "plt.figure(figsize=(5, 3))\n",
    "feature_importance = pd.DataFrame({\n",
    "    'Feature': X.columns,\n",
    "    'Importance': model.feature_importances_\n",
    "}).sort_values('Importance', ascending=False)\n",
    "sns.barplot(x='Importance', y='Feature', data=feature_importance)\n",
    "plt.title(\"Random Forest Feature Importance\")\n",
    "\n",
    "plt.tight_layout()\n",
    "plt.show()"
   ]
  },
  {
   "cell_type": "code",
   "execution_count": 80,
   "id": "aa6fece3-27b4-43f9-9b4d-6cc32ccbbdc5",
   "metadata": {},
   "outputs": [
    {
     "data": {
      "text/plain": [
       "Text(0.5, 1.0, 'Random Forest Confusion Matrix')"
      ]
     },
     "execution_count": 80,
     "metadata": {},
     "output_type": "execute_result"
    },
    {
     "data": {
      "image/png": "[encoded data removed]",
      "text/plain": [
       "<Figure size 500x300 with 2 Axes>"
      ]
     },
     "metadata": {},
     "output_type": "display_data"
    }
   ],
   "source": [
    "plt.figure(figsize=(5, 3))\n",
    "\n",
    "# Confusion Matrix for Random Forest\n",
    "sns.heatmap(result[\"Confusion Matrix\"], annot=True, fmt='d', cmap='Blues', xticklabels=['Approved', 'Not Approved'], yticklabels=['Approved', 'Not Approved'])\n",
    "plt.xlabel('Predicted')\n",
    "plt.ylabel('Actual')\n",
    "plt.title('Confusion Matrix- Decision Tree')\n",
    "plt.title(\"Random Forest Confusion Matrix\")\n"
   ]
  },
  {
   "cell_type": "code",
   "execution_count": 93,
   "id": "45c9a980-50af-4bae-bb0f-6ae21ff6fbc9",
   "metadata": {},
   "outputs": [
    {
     "name": "stdout",
     "output_type": "stream",
     "text": [
      "\n",
      "Feature Importance Percentages:\n",
      "              Feature  Importance_Percentage\n",
      " loan_default_history              51.512384\n",
      "  loan_percent_income              15.119530\n",
      "        loan_int_rate              14.383190\n",
      "               income               8.743168\n",
      "       home_ownership               6.060103\n",
      "          loan amount               2.201664\n",
      "          loan_intent               1.112677\n",
      "         credit_score               0.573326\n",
      "                  age               0.113163\n",
      "credit_history_length               0.076384\n",
      "employment_experience               0.075332\n",
      "            education               0.022968\n",
      "               gender               0.006111\n",
      "\n",
      "Model Performance Metrics:\n",
      "Precision: 64.7% (When we predict default, we're usually right)\n",
      "Recall: 90.5% (We catch this percentage of actual defaults)\n",
      "F1 Score: 75.4% (Balanced measure of precision and recall)\n"
     ]
    }
   ],
   "source": [
    "# Calculate Feature Importance Percentages\n",
    "feature_importance = pd.DataFrame({\n",
    "    'Feature': X.columns,\n",
    "    'Importance': model.feature_importances_\n",
    "}).sort_values('Importance', ascending=False)\n",
    "\n",
    "# Convert to percentage\n",
    "feature_importance['Importance_Percentage'] = (feature_importance['Importance'] / feature_importance['Importance'].sum()) * 100\n",
    "\n",
    "# Display feature importance as percentages\n",
    "print(\"\\nFeature Importance Percentages:\")\n",
    "print(feature_importance[['Feature', 'Importance_Percentage']].to_string(index=False))\n",
    "\n",
    "# Calculate Precision, Recall, F1\n",
    "from sklearn.metrics import precision_score, recall_score, f1_score\n",
    "\n",
    "precision = precision_score(y_test, y_pred)\n",
    "recall = recall_score(y_test, y_pred)\n",
    "f1 = f1_score(y_test, y_pred)\n",
    "\n",
    "print(\"\\nModel Performance Metrics:\")\n",
    "print(f\"Precision: {precision:.1%} (When we predict default, we're usually right)\")\n",
    "print(f\"Recall: {recall:.1%} (We catch this percentage of actual defaults)\")\n",
    "print(f\"F1 Score: {f1:.1%} (Balanced measure of precision and recall)\")"
   ]
  },
  {
   "cell_type": "code",
   "execution_count": 105,
   "id": "aad0ac37-fc3e-4be2-83d9-9006ff7558b3",
   "metadata": {},
   "outputs": [],
   "source": [
    "# Load YOUR dataset (replace with your path)\n",
    "df1 = pd.read_csv('C:/Users/shrey/OneDrive/Documents/SPRING 2025/pred/Loan_Data.csv')"
   ]
  },
  {
   "cell_type": "code",
   "execution_count": 107,
   "id": "04d85a04-a4d2-4daf-a8f5-3a44fdfef7e7",
   "metadata": {},
   "outputs": [],
   "source": [
    " df1 = df1.rename(columns={\n",
    " 'ducation': 'education',\n",
    " 'mployment_experience': 'employment_experience',\n",
    " 'loan amount': 'loan_amount'\n",
    " })"
   ]
  },
  {
   "cell_type": "code",
   "execution_count": 111,
   "id": "73e240c3-fdb6-4f81-80d9-e93b66e68cbc",
   "metadata": {},
   "outputs": [
    {
     "name": "stdout",
     "output_type": "stream",
     "text": [
      "Dataset shape: (44663, 14)\n",
      "\n",
      "First 5 rows:\n",
      "   age  gender    education  income  employment_experience home_ownership  \\\n",
      "0   22  female       Master   71948                      0           RENT   \n",
      "1   21  female  High School   12282                      0            OWN   \n",
      "2   25  female  High School   12438                      3       MORTGAGE   \n",
      "3   23  female     Bachelor   79753                      0           RENT   \n",
      "4   24    male       Master   66135                      1           RENT   \n",
      "\n",
      "   loan_amount loan_intent  loan_int_rate  loan_percent_income  \\\n",
      "0        35000    PERSONAL          16.02                 0.49   \n",
      "1         1000   EDUCATION          11.14                 0.08   \n",
      "2         5500     MEDICAL          12.87                 0.44   \n",
      "3        35000     MEDICAL          15.23                 0.44   \n",
      "4        35000     MEDICAL          14.27                 0.53   \n",
      "\n",
      "   credit_history_length  credit_score loan_default_history  loan_status  \n",
      "0                      3           561                   No            1  \n",
      "1                      2           504                  Yes            0  \n",
      "2                      3           635                   No            1  \n",
      "3                      2           675                   No            1  \n",
      "4                      4           586                   No            1  \n",
      "\n",
      "Missing values: 0\n",
      "\n",
      "Loan status distribution:\n",
      "loan_status\n",
      "0    35000\n",
      "1     9663\n",
      "Name: count, dtype: int64\n",
      "Percentage of defaults: 21.64%\n"
     ]
    }
   ],
   "source": [
    " print(f\"Dataset shape: {df1.shape}\")\n",
    " print(\"\\nFirst 5 rows:\")\n",
    " 1\n",
    "print(df1.head())\n",
    " # Check for missing values\n",
    " print(\"\\nMissing values:\", df1.isnull().sum().sum())\n",
    " # Display target variable distribution\n",
    " print(\"\\nLoan status distribution:\")\n",
    " print(df1['loan_status'].value_counts())\n",
    " print(f\"Percentage of defaults: {df1['loan_status'].mean() * 100:.2f}%\")"
   ]
  },
  {
   "cell_type": "code",
   "execution_count": 117,
   "id": "8f6ac212-88a8-4f7e-a3f1-e76cd9867ef5",
   "metadata": {},
   "outputs": [
    {
     "name": "stdout",
     "output_type": "stream",
     "text": [
      "\n",
      "Categorical features: ['gender', 'education', 'home_ownership', 'loan_intent', 'loan_default_history']\n",
      "Numerical features: ['age', 'income', 'employment_experience', 'loan_amount', 'loan_int_rate', 'loan_percent_income', 'credit_history_length', 'credit_score']\n",
      "\n",
      "Training set: (35730, 13)\n",
      "Testing set: (8933, 13)\n"
     ]
    }
   ],
   "source": [
    "# Data Preprocessing\n",
    "# Separate features and target\n",
    "X = df1.drop('loan_status', axis=1)\n",
    "y = df1['loan_status']\n",
    "# Identify categorical features\n",
    "cat_cols = X.select_dtypes(include=['object']).columns\n",
    "num_cols = X.select_dtypes(include=['int64', 'float64']).columns\n",
    "print(\"\\nCategorical features:\", list(cat_cols))\n",
    "print(\"Numerical features:\", list(num_cols))\n",
    "# Encode categorical variables\n",
    "for col in cat_cols:\n",
    "    le = LabelEncoder()\n",
    "    X[col] = le.fit_transform(X[col])\n",
    "# Split the data\n",
    "X_train, X_test, y_train, y_test = train_test_split(X, y, test_size=0.2, random_state=42, stratify=y)\n",
    "print(f\"\\nTraining set: {X_train.shape}\")\n",
    "print(f\"Testing set: {X_test.shape}\")"
   ]
  },
  {
   "cell_type": "code",
   "execution_count": 123,
   "id": "e28edec0-5a95-4330-904e-b9d895c12187",
   "metadata": {},
   "outputs": [
    {
     "name": "stdout",
     "output_type": "stream",
     "text": [
      "\n",
      "Training Decision Tree model...\n",
      "\n",
      "Accuracy: 0.9121\n",
      "\n",
      "Classification Report:\n",
      "              precision    recall  f1-score   support\n",
      "\n",
      "           0       0.92      0.97      0.95      7000\n",
      "           1       0.87      0.70      0.78      1933\n",
      "\n",
      "    accuracy                           0.91      8933\n",
      "   macro avg       0.89      0.84      0.86      8933\n",
      "weighted avg       0.91      0.91      0.91      8933\n",
      "\n"
     ]
    }
   ],
   "source": [
    "# Train Decision Tree model\n",
    "print(\"\\nTraining Decision Tree model...\")\n",
    "dt_model = DecisionTreeClassifier(max_depth=5, random_state=42)\n",
    "dt_model.fit(X_train, y_train)\n",
    "\n",
    "# Evaluate the model\n",
    "y_pred = dt_model.predict(X_test)\n",
    "accuracy = accuracy_score(y_test, y_pred)\n",
    "print(f\"\\nAccuracy: {accuracy:.4f}\")\n",
    "\n",
    "# Print classification report\n",
    "print(\"\\nClassification Report:\")\n",
    "print(classification_report(y_test, y_pred))"
   ]
  },
  {
   "cell_type": "code",
   "execution_count": 125,
   "id": "0b9bed19-6869-4b2a-9581-d80b4c84823b",
   "metadata": {},
   "outputs": [
    {
     "ename": "IndentationError",
     "evalue": "unexpected indent (2831596693.py, line 2)",
     "output_type": "error",
     "traceback": [
      "\u001b[1;36m  Cell \u001b[1;32mIn[125], line 2\u001b[1;36m\u001b[0m\n\u001b[1;33m    conf_matrix = confusion_matrix(y_test, y_pred)\u001b[0m\n\u001b[1;37m    ^\u001b[0m\n\u001b[1;31mIndentationError\u001b[0m\u001b[1;31m:\u001b[0m unexpected indent\n"
     ]
    }
   ],
   "source": [
    "# Create confusion matrix\n",
    " conf_matrix = confusion_matrix(y_test, y_pred)\n",
    " plt.figure(figsize=(8, 6))\n",
    " sns.heatmap(conf_matrix, annot=True, fmt='d', cmap='Blues',\n",
    " xticklabels=['No Default', 'Default'],\n",
    " yticklabels=['No Default', 'Default'])\n",
    " plt.xlabel('Predicted')\n",
    " plt.ylabel('Actual')\n",
    " plt.title('Confusion Matrix- Decision Tree')\n",
    " plt.tight_layout()\n",
    " plt.savefig('confusion_matrix.png')\n",
    " plt.show()\n",
    " # Calculate and visualize feature importance\n",
    " feature_importance = pd.DataFrame({\n",
    " 'Feature': X.columns,\n",
    " 'Importance': dt_model.feature_importances_\n",
    " })\n",
    " feature_importance = feature_importance.sort_values('Importance',ascending=False)\n",
    " plt.figure(figsize=(10, 6))\n",
    " sns.barplot(x='Importance', y='Feature', data=feature_importance.head(10))\n",
    " plt.title('Top 10 Feature Importances')\n",
    " plt.tight_layout()\n",
    " plt.savefig('feature_importance.png')\n",
    " plt.show()\n",
    " # Visualize the decision tree (making sure it's clearly visible)\n",
    " plt.figure(figsize=(20, 10))\n",
    " # Create a simpler tree for visualization\n",
    " dt_viz = DecisionTreeClassifier(max_depth=3, random_state=42)\n",
    " dt_viz.fit(X_train, y_train)\n",
    " # Plot the tree\n",
    " plot_tree(dt_viz,\n",
    " filled=True,\n",
    " feature_names=list(X.columns),\n",
    " class_names=['No Default', 'Default'],\n",
    " rounded=True,\n",
    " fontsize=12)\n",
    " plt.title('Decision Tree Visualization', fontsize=20)\n",
    " plt.tight_layout()\n",
    " plt.savefig('decision_tree_viz.png', dpi=300, bbox_inches='tight')\n",
    " plt.show()\n",
    " print(\"\\nDecision Tree analysis completed!\")"
   ]
  },
  {
   "cell_type": "code",
   "execution_count": null,
   "id": "33de9f33-f1bf-463f-893b-a37aca523c2f",
   "metadata": {},
   "outputs": [],
   "source": []
  }
 ],
 "metadata": {
  "kernelspec": {
   "display_name": "Python [conda env:base] *",
   "language": "python",
   "name": "conda-base-py"
  },
  "language_info": {
   "codemirror_mode": {
    "name": "ipython",
    "version": 3
   },
   "file_extension": ".py",
   "mimetype": "text/x-python",
   "name": "python",
   "nbconvert_exporter": "python",
   "pygments_lexer": "ipython3",
   "version": "3.12.7"
  }
 },
 "nbformat": 4,
 "nbformat_minor": 5
}
